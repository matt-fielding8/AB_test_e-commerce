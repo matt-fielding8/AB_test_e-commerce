{
 "cells": [
  {
   "cell_type": "markdown",
   "metadata": {},
   "source": [
    "# Logistic Regression for E-Commerce\n",
    "\n",
    "## Introduction\n",
    "An e-commerce company has developed a new web page in order to try and increase purchases (conversions) made through their site. They have run an AB experiment and collected data regarding the number of conversions for a control group and a treatment group. The objective of this project is to assess the data and help the company understand if they should implement this new page, keep the old page, or run the experiment longer to make their decision.\n",
    "\n",
    "In the [AB_Test notebook](http://localhost:8888/notebooks/notebooks/AB_Test.ipynb), we analysed the results of an A/B test experiment run by an e-commerce website. We found that, based on a type 1 error rate threshold of 5%, we cannot state with statsitcal significance that the new page performs differently to the old page and made the recommendation that the new page is not implemented. \n",
    "\n",
    "In this notebook, we build a logisitic regression model to predict the probability of individual user conversion. This model may help the e-commerce site understand which users are most and least likely to make a purchase and implement their marketing strategies accordingly.\n",
    "\n",
    "\n",
    "## Data Overview\n",
    "The datasets for this project are provided by **Udacity** in association with their **Data Analyst Nanodegree** programme. They have been generated to represent example A/B experiment results from an e-commerce website. There are 2 raw csv files:\n",
    "\n",
    "  * `ab_test.csv` - contains information regarding the group (control or treatment), landing page (old or new), timestamp of visit and conversion.\n",
    "  * `countries.csv` - contains information regarding the country of origin of each user.\n",
    "  \n",
    "In [AB_Test notebook](http://localhost:8888/notebooks/notebooks/AB_Test.ipynb), we cleaned the above dataframes and saved to `ab_data_clean.csv`. We'll be using this for our assessments in this notebook.\n",
    "  \n",
    "***\n",
    "## Regression Analysis\n",
    "Given that user conversion is binary, another method we can use to investigate the probability of conversion is logistic regression. To reinforce conceptual understanding of logistic regression algorithms we will build them from scratch then compare and optimise performance. \n",
    "\n",
    "Model plan:\n",
    "* Engineer features in ab_test_clean.csv\n",
    "* Divide the dataset randomly into a 70:30 training and test set split\n",
    "* Train unregularised logistic regression model. Assess performance against mutliple learning rates $\\alpha$\n",
    "* Train regularised logistic regression model. Compare training accuracy for multiple values of $\\lambda$"
   ]
  },
  {
   "cell_type": "code",
   "execution_count": 1,
   "metadata": {},
   "outputs": [],
   "source": [
    "# Imports\n",
    "import pandas as pd\n",
    "import numpy as np\n",
    "import matplotlib.pyplot as plt\n",
    "import seaborn as sb\n",
    "from datetime import datetime\n",
    "import os\n",
    "import sys\n",
    "\n",
    "%matplotlib inline\n",
    "\n",
    "path = os.path.abspath(os.path.join('../features'))\n",
    "if path not in sys.path:\n",
    "    sys.path.append(path)\n",
    "    \n",
    "# Custom libraries\n",
    "import visualise as vis\n",
    "import model as mod\n",
    "\n",
    "# Seed random to keep values common for each execution\n",
    "np.random.seed(42)"
   ]
  },
  {
   "cell_type": "code",
   "execution_count": 2,
   "metadata": {},
   "outputs": [],
   "source": [
    "df_mod = pd.read_csv('../data/ab_data_clean.csv')\n",
    "df_mod.timestamp = pd.to_datetime(df_mod.timestamp)"
   ]
  },
  {
   "cell_type": "code",
   "execution_count": 3,
   "metadata": {},
   "outputs": [
    {
     "data": {
      "text/html": [
       "<div>\n",
       "<style scoped>\n",
       "    .dataframe tbody tr th:only-of-type {\n",
       "        vertical-align: middle;\n",
       "    }\n",
       "\n",
       "    .dataframe tbody tr th {\n",
       "        vertical-align: top;\n",
       "    }\n",
       "\n",
       "    .dataframe thead th {\n",
       "        text-align: right;\n",
       "    }\n",
       "</style>\n",
       "<table border=\"1\" class=\"dataframe\">\n",
       "  <thead>\n",
       "    <tr style=\"text-align: right;\">\n",
       "      <th></th>\n",
       "      <th>user_id</th>\n",
       "      <th>timestamp</th>\n",
       "      <th>group</th>\n",
       "      <th>landing_page</th>\n",
       "      <th>converted</th>\n",
       "      <th>country</th>\n",
       "      <th>CA</th>\n",
       "      <th>UK</th>\n",
       "      <th>US</th>\n",
       "    </tr>\n",
       "  </thead>\n",
       "  <tbody>\n",
       "    <tr>\n",
       "      <th>0</th>\n",
       "      <td>851104</td>\n",
       "      <td>2017-01-21 22:11:48.556739</td>\n",
       "      <td>0</td>\n",
       "      <td>old_page</td>\n",
       "      <td>0</td>\n",
       "      <td>US</td>\n",
       "      <td>0</td>\n",
       "      <td>0</td>\n",
       "      <td>1</td>\n",
       "    </tr>\n",
       "    <tr>\n",
       "      <th>1</th>\n",
       "      <td>804228</td>\n",
       "      <td>2017-01-12 08:01:45.159739</td>\n",
       "      <td>0</td>\n",
       "      <td>old_page</td>\n",
       "      <td>0</td>\n",
       "      <td>US</td>\n",
       "      <td>0</td>\n",
       "      <td>0</td>\n",
       "      <td>1</td>\n",
       "    </tr>\n",
       "    <tr>\n",
       "      <th>2</th>\n",
       "      <td>661590</td>\n",
       "      <td>2017-01-11 16:55:06.154213</td>\n",
       "      <td>1</td>\n",
       "      <td>new_page</td>\n",
       "      <td>0</td>\n",
       "      <td>US</td>\n",
       "      <td>0</td>\n",
       "      <td>0</td>\n",
       "      <td>1</td>\n",
       "    </tr>\n",
       "    <tr>\n",
       "      <th>3</th>\n",
       "      <td>853541</td>\n",
       "      <td>2017-01-08 18:28:03.143765</td>\n",
       "      <td>1</td>\n",
       "      <td>new_page</td>\n",
       "      <td>0</td>\n",
       "      <td>US</td>\n",
       "      <td>0</td>\n",
       "      <td>0</td>\n",
       "      <td>1</td>\n",
       "    </tr>\n",
       "    <tr>\n",
       "      <th>4</th>\n",
       "      <td>864975</td>\n",
       "      <td>2017-01-21 01:52:26.210827</td>\n",
       "      <td>0</td>\n",
       "      <td>old_page</td>\n",
       "      <td>1</td>\n",
       "      <td>US</td>\n",
       "      <td>0</td>\n",
       "      <td>0</td>\n",
       "      <td>1</td>\n",
       "    </tr>\n",
       "  </tbody>\n",
       "</table>\n",
       "</div>"
      ],
      "text/plain": [
       "   user_id                  timestamp  group landing_page  converted country  \\\n",
       "0   851104 2017-01-21 22:11:48.556739      0     old_page          0      US   \n",
       "1   804228 2017-01-12 08:01:45.159739      0     old_page          0      US   \n",
       "2   661590 2017-01-11 16:55:06.154213      1     new_page          0      US   \n",
       "3   853541 2017-01-08 18:28:03.143765      1     new_page          0      US   \n",
       "4   864975 2017-01-21 01:52:26.210827      0     old_page          1      US   \n",
       "\n",
       "   CA  UK  US  \n",
       "0   0   0   1  \n",
       "1   0   0   1  \n",
       "2   0   0   1  \n",
       "3   0   0   1  \n",
       "4   0   0   1  "
      ]
     },
     "execution_count": 3,
     "metadata": {},
     "output_type": "execute_result"
    }
   ],
   "source": [
    "# Create dummy variables\n",
    "df_mod[['CA', 'UK','US']] = pd.get_dummies(df_mod.country)\n",
    "df_mod.group = np.where(df_mod.group=='control', 0, 1)\n",
    "df_mod.head()"
   ]
  },
  {
   "cell_type": "markdown",
   "metadata": {},
   "source": [
    "In order to use `timestamp` as a feature we'll need to group the values. Lets first look at the range."
   ]
  },
  {
   "cell_type": "code",
   "execution_count": 4,
   "metadata": {},
   "outputs": [
    {
     "name": "stdout",
     "output_type": "stream",
     "text": [
      "2017-01-24 13:41:54.460509\n",
      "2017-01-02 13:42:05.378582\n"
     ]
    }
   ],
   "source": [
    "print(df_mod.timestamp.max())\n",
    "print(df_mod.timestamp.min())"
   ]
  },
  {
   "cell_type": "markdown",
   "metadata": {},
   "source": [
    "Here we can see that the AB data was collected between 2017-01-02 and 2017-01-24. Grouping the timestamps by day will help us map out the engagement over the full course of the experiment. Grouping the timestamps by hours might also be useful for predicting conversion rates. **However**, we are missing some crucial information, we do not know what timezone this timestamp refers to, or whether the timezone is consistent throughout. We'll need to understand this information to properly validate the prediction model."
   ]
  },
  {
   "cell_type": "code",
   "execution_count": 5,
   "metadata": {},
   "outputs": [
    {
     "data": {
      "text/html": [
       "<div>\n",
       "<style scoped>\n",
       "    .dataframe tbody tr th:only-of-type {\n",
       "        vertical-align: middle;\n",
       "    }\n",
       "\n",
       "    .dataframe tbody tr th {\n",
       "        vertical-align: top;\n",
       "    }\n",
       "\n",
       "    .dataframe thead th {\n",
       "        text-align: right;\n",
       "    }\n",
       "</style>\n",
       "<table border=\"1\" class=\"dataframe\">\n",
       "  <thead>\n",
       "    <tr style=\"text-align: right;\">\n",
       "      <th></th>\n",
       "      <th>user_id</th>\n",
       "      <th>timestamp</th>\n",
       "      <th>group</th>\n",
       "      <th>landing_page</th>\n",
       "      <th>converted</th>\n",
       "      <th>country</th>\n",
       "      <th>CA</th>\n",
       "      <th>UK</th>\n",
       "      <th>US</th>\n",
       "      <th>day</th>\n",
       "      <th>hour</th>\n",
       "      <th>intercept</th>\n",
       "    </tr>\n",
       "  </thead>\n",
       "  <tbody>\n",
       "    <tr>\n",
       "      <th>0</th>\n",
       "      <td>851104</td>\n",
       "      <td>2017-01-21 22:11:48.556739</td>\n",
       "      <td>0</td>\n",
       "      <td>old_page</td>\n",
       "      <td>0</td>\n",
       "      <td>US</td>\n",
       "      <td>0</td>\n",
       "      <td>0</td>\n",
       "      <td>1</td>\n",
       "      <td>21</td>\n",
       "      <td>22</td>\n",
       "      <td>1</td>\n",
       "    </tr>\n",
       "    <tr>\n",
       "      <th>1</th>\n",
       "      <td>804228</td>\n",
       "      <td>2017-01-12 08:01:45.159739</td>\n",
       "      <td>0</td>\n",
       "      <td>old_page</td>\n",
       "      <td>0</td>\n",
       "      <td>US</td>\n",
       "      <td>0</td>\n",
       "      <td>0</td>\n",
       "      <td>1</td>\n",
       "      <td>12</td>\n",
       "      <td>8</td>\n",
       "      <td>1</td>\n",
       "    </tr>\n",
       "    <tr>\n",
       "      <th>2</th>\n",
       "      <td>661590</td>\n",
       "      <td>2017-01-11 16:55:06.154213</td>\n",
       "      <td>1</td>\n",
       "      <td>new_page</td>\n",
       "      <td>0</td>\n",
       "      <td>US</td>\n",
       "      <td>0</td>\n",
       "      <td>0</td>\n",
       "      <td>1</td>\n",
       "      <td>11</td>\n",
       "      <td>16</td>\n",
       "      <td>1</td>\n",
       "    </tr>\n",
       "    <tr>\n",
       "      <th>3</th>\n",
       "      <td>853541</td>\n",
       "      <td>2017-01-08 18:28:03.143765</td>\n",
       "      <td>1</td>\n",
       "      <td>new_page</td>\n",
       "      <td>0</td>\n",
       "      <td>US</td>\n",
       "      <td>0</td>\n",
       "      <td>0</td>\n",
       "      <td>1</td>\n",
       "      <td>8</td>\n",
       "      <td>18</td>\n",
       "      <td>1</td>\n",
       "    </tr>\n",
       "    <tr>\n",
       "      <th>4</th>\n",
       "      <td>864975</td>\n",
       "      <td>2017-01-21 01:52:26.210827</td>\n",
       "      <td>0</td>\n",
       "      <td>old_page</td>\n",
       "      <td>1</td>\n",
       "      <td>US</td>\n",
       "      <td>0</td>\n",
       "      <td>0</td>\n",
       "      <td>1</td>\n",
       "      <td>21</td>\n",
       "      <td>1</td>\n",
       "      <td>1</td>\n",
       "    </tr>\n",
       "  </tbody>\n",
       "</table>\n",
       "</div>"
      ],
      "text/plain": [
       "   user_id                  timestamp  group landing_page  converted country  \\\n",
       "0   851104 2017-01-21 22:11:48.556739      0     old_page          0      US   \n",
       "1   804228 2017-01-12 08:01:45.159739      0     old_page          0      US   \n",
       "2   661590 2017-01-11 16:55:06.154213      1     new_page          0      US   \n",
       "3   853541 2017-01-08 18:28:03.143765      1     new_page          0      US   \n",
       "4   864975 2017-01-21 01:52:26.210827      0     old_page          1      US   \n",
       "\n",
       "   CA  UK  US  day  hour  intercept  \n",
       "0   0   0   1   21    22          1  \n",
       "1   0   0   1   12     8          1  \n",
       "2   0   0   1   11    16          1  \n",
       "3   0   0   1    8    18          1  \n",
       "4   0   0   1   21     1          1  "
      ]
     },
     "execution_count": 5,
     "metadata": {},
     "output_type": "execute_result"
    }
   ],
   "source": [
    "# extract day\n",
    "df_mod['day'] = df_mod.timestamp.dt.day\n",
    "# extract hour\n",
    "df_mod['hour'] = df_mod.timestamp.dt.hour\n",
    "# create intercept, x0\n",
    "df_mod['intercept'] = 1\n",
    "df_mod.head()"
   ]
  },
  {
   "cell_type": "markdown",
   "metadata": {},
   "source": [
    "Finally lets reorder our columns, keeping only features we want to include in the model."
   ]
  },
  {
   "cell_type": "code",
   "execution_count": 6,
   "metadata": {},
   "outputs": [
    {
     "data": {
      "text/html": [
       "<div>\n",
       "<style scoped>\n",
       "    .dataframe tbody tr th:only-of-type {\n",
       "        vertical-align: middle;\n",
       "    }\n",
       "\n",
       "    .dataframe tbody tr th {\n",
       "        vertical-align: top;\n",
       "    }\n",
       "\n",
       "    .dataframe thead th {\n",
       "        text-align: right;\n",
       "    }\n",
       "</style>\n",
       "<table border=\"1\" class=\"dataframe\">\n",
       "  <thead>\n",
       "    <tr style=\"text-align: right;\">\n",
       "      <th></th>\n",
       "      <th>intercept</th>\n",
       "      <th>group</th>\n",
       "      <th>CA</th>\n",
       "      <th>UK</th>\n",
       "      <th>US</th>\n",
       "      <th>day</th>\n",
       "      <th>hour</th>\n",
       "      <th>converted</th>\n",
       "    </tr>\n",
       "  </thead>\n",
       "  <tbody>\n",
       "    <tr>\n",
       "      <th>0</th>\n",
       "      <td>1</td>\n",
       "      <td>0</td>\n",
       "      <td>0</td>\n",
       "      <td>0</td>\n",
       "      <td>1</td>\n",
       "      <td>21</td>\n",
       "      <td>22</td>\n",
       "      <td>0</td>\n",
       "    </tr>\n",
       "    <tr>\n",
       "      <th>1</th>\n",
       "      <td>1</td>\n",
       "      <td>0</td>\n",
       "      <td>0</td>\n",
       "      <td>0</td>\n",
       "      <td>1</td>\n",
       "      <td>12</td>\n",
       "      <td>8</td>\n",
       "      <td>0</td>\n",
       "    </tr>\n",
       "    <tr>\n",
       "      <th>2</th>\n",
       "      <td>1</td>\n",
       "      <td>1</td>\n",
       "      <td>0</td>\n",
       "      <td>0</td>\n",
       "      <td>1</td>\n",
       "      <td>11</td>\n",
       "      <td>16</td>\n",
       "      <td>0</td>\n",
       "    </tr>\n",
       "    <tr>\n",
       "      <th>3</th>\n",
       "      <td>1</td>\n",
       "      <td>1</td>\n",
       "      <td>0</td>\n",
       "      <td>0</td>\n",
       "      <td>1</td>\n",
       "      <td>8</td>\n",
       "      <td>18</td>\n",
       "      <td>0</td>\n",
       "    </tr>\n",
       "    <tr>\n",
       "      <th>4</th>\n",
       "      <td>1</td>\n",
       "      <td>0</td>\n",
       "      <td>0</td>\n",
       "      <td>0</td>\n",
       "      <td>1</td>\n",
       "      <td>21</td>\n",
       "      <td>1</td>\n",
       "      <td>1</td>\n",
       "    </tr>\n",
       "  </tbody>\n",
       "</table>\n",
       "</div>"
      ],
      "text/plain": [
       "   intercept  group  CA  UK  US  day  hour  converted\n",
       "0          1      0   0   0   1   21    22          0\n",
       "1          1      0   0   0   1   12     8          0\n",
       "2          1      1   0   0   1   11    16          0\n",
       "3          1      1   0   0   1    8    18          0\n",
       "4          1      0   0   0   1   21     1          1"
      ]
     },
     "execution_count": 6,
     "metadata": {},
     "output_type": "execute_result"
    }
   ],
   "source": [
    "cols = ['intercept', 'group', 'CA', 'UK','US','day', 'hour','converted']\n",
    "df_mod = df_mod[cols]\n",
    "df_mod.head()"
   ]
  },
  {
   "cell_type": "markdown",
   "metadata": {},
   "source": [
    "Now lets split our data into a training and testing sets on a 70:30 split and convert to numpy matrices."
   ]
  },
  {
   "cell_type": "code",
   "execution_count": 7,
   "metadata": {},
   "outputs": [],
   "source": [
    "df_train = df_mod.sample(frac=0.7, replace=False, random_state=42)\n",
    "idx = df_train.index\n",
    "# Drop all examples which are in df_train\n",
    "df_test = df_mod.drop(idx)"
   ]
  },
  {
   "cell_type": "code",
   "execution_count": 8,
   "metadata": {},
   "outputs": [
    {
     "name": "stdout",
     "output_type": "stream",
     "text": [
      "0.7000006882691407 0.29999931173085925\n"
     ]
    }
   ],
   "source": [
    "# Confirm 70:30 split of data\n",
    "print(df_train.shape[0]/df_mod.shape[0], df_test.shape[0]/df_mod.shape[0])\n",
    "\n",
    "# Confirm all data is included in df_train and df_test\n",
    "assert (df_train.shape[0]+df_test.shape[0] == df_mod.shape[0])"
   ]
  },
  {
   "cell_type": "code",
   "execution_count": 9,
   "metadata": {},
   "outputs": [
    {
     "data": {
      "text/plain": [
       "((203409, 7), (203409,), (87175, 7), (87175,))"
      ]
     },
     "execution_count": 9,
     "metadata": {},
     "output_type": "execute_result"
    }
   ],
   "source": [
    "X_train, y_train = df_train.iloc[:,:-1].values, df_train.converted.values\n",
    "X_test, y_test = df_test.iloc[:,:-1].values, df_test.converted.values\n",
    "\n",
    "X_train.shape, y_train.shape, X_test.shape, y_test.shape"
   ]
  },
  {
   "cell_type": "markdown",
   "metadata": {},
   "source": [
    "Now that our training and test data is set up as matrices we can run our model. We'll start by initialising `theta` to zero's, then assess gradient descent performance with a number of different learning rates."
   ]
  },
  {
   "cell_type": "code",
   "execution_count": 10,
   "metadata": {},
   "outputs": [],
   "source": [
    "# Initialise theta to zero\n",
    "theta = np.zeros(X_train.shape[1])"
   ]
  },
  {
   "cell_type": "code",
   "execution_count": 61,
   "metadata": {},
   "outputs": [
    {
     "name": "stdout",
     "output_type": "stream",
     "text": [
      "CPU times: user 33.2 s, sys: 47.7 ms, total: 33.2 s\n",
      "Wall time: 8.37 s\n"
     ]
    }
   ],
   "source": [
    "%%time\n",
    "theta_opt01, costs01 = mod.gradientDescent(X_train, theta, y_train, alpha=0.01, track=True, iters=500)"
   ]
  },
  {
   "cell_type": "code",
   "execution_count": 11,
   "metadata": {},
   "outputs": [
    {
     "name": "stdout",
     "output_type": "stream",
     "text": [
      "CPU times: user 37.1 s, sys: 39.6 ms, total: 37.1 s\n",
      "Wall time: 9.32 s\n"
     ]
    }
   ],
   "source": [
    "%%time\n",
    "theta_opt03, costs03 = mod.gradientDescent(X_train, theta, y_train, alpha=0.03, track=True, iters=500)"
   ]
  },
  {
   "cell_type": "code",
   "execution_count": 122,
   "metadata": {},
   "outputs": [
    {
     "name": "stdout",
     "output_type": "stream",
     "text": [
      "CPU times: user 28.3 s, sys: 0 ns, total: 28.3 s\n",
      "Wall time: 7.09 s\n"
     ]
    }
   ],
   "source": [
    "%%time\n",
    "theta_opt06, costs06 = mod.gradientDescent(X_train, theta, y_train, alpha=0.06, track=True, iters=500)"
   ]
  },
  {
   "cell_type": "code",
   "execution_count": 63,
   "metadata": {},
   "outputs": [
    {
     "name": "stdout",
     "output_type": "stream",
     "text": [
      "CPU times: user 29.6 s, sys: 23.8 ms, total: 29.6 s\n",
      "Wall time: 7.4 s\n"
     ]
    }
   ],
   "source": [
    "%%time\n",
    "theta_opt1, costs1 = mod.gradientDescent(X_train, theta, y_train, alpha=0.1, track=True, iters=500)"
   ]
  },
  {
   "cell_type": "code",
   "execution_count": 153,
   "metadata": {},
   "outputs": [
    {
     "data": {
      "image/png": "[encoded data removed]",
      "text/plain": [
       "<Figure size 1080x720 with 4 Axes>"
      ]
     },
     "metadata": {
      "needs_background": "light"
     },
     "output_type": "display_data"
    }
   ],
   "source": [
    "x01 = [i*10 for i, j in enumerate(costs01)]\n",
    "y01 = [j for i, j in enumerate(costs01)]\n",
    "\n",
    "x03 = [i*10 for i, j in enumerate(costs03)]\n",
    "y03 = [j for i, j in enumerate(costs03)]\n",
    "\n",
    "x06 = [i*10 for i, j in enumerate(costs06)]\n",
    "y06 = [j for i, j in enumerate(costs06)]\n",
    "\n",
    "x1 = [i*10 for i, j in enumerate(costs1)]\n",
    "y1 = [j for i, j in enumerate(costs1)]\n",
    "\n",
    "titles= [\"Cost convergence with alpha=0.01\", \"Cost convergence with alpha=0.03\", \n",
    "         \"Cost convergence with alpha=0.06\", \"Cost convergence with alpha=0.1\"]\n",
    "\n",
    "\n",
    "axs = vis.createPlot(r=2,c=2,title=titles, figsize=[15,10], xlabel=\"Iterations\", ylabel='Cost', sharey=False,\n",
    "                    title_font=12)\n",
    "\n",
    "plt.sca(axs[0])\n",
    "sb.lineplot(x=x01,y=y01)\n",
    "plt.text(20,0.41,\"Min: {:.4f}\".format(np.min(costs01)));\n",
    "\n",
    "plt.sca(axs[1])\n",
    "sb.lineplot(x=x03,y=y03)\n",
    "plt.text(20,0.43,\"Min: {:.4f}\".format(np.min(costs03)));\n",
    "\n",
    "plt.sca(axs[2])\n",
    "sb.lineplot(x=x06,y=y06)\n",
    "plt.text(20,0.43,\"Min: {:.4f}\".format(np.min(costs06)));\n",
    "\n",
    "plt.sca(axs[3])\n",
    "sb.lineplot(x=x1,y=y1)\n",
    "plt.text(20,1.0,\"Min: {:.4f}\".format(np.min(costs1)));"
   ]
  },
  {
   "cell_type": "markdown",
   "metadata": {},
   "source": [
    "### Performance\n",
    "* $\\alpha = 0.1$ failed to converge\n",
    "* $\\alpha = 0.01$, $\\alpha = 0.03$ are not fully converged after 500 iterations\n",
    "* $\\alpha = 0.06$ appears to be almost fully converged after 500 iterations\n",
    "* The computations executed in 33, 30, 28 and 29 seconds.\n",
    "*** \n",
    "Lets reassess learning rate 0.03 and 0.06 using 1000 iterations"
   ]
  },
  {
   "cell_type": "code",
   "execution_count": 116,
   "metadata": {},
   "outputs": [
    {
     "name": "stdout",
     "output_type": "stream",
     "text": [
      "CPU times: user 55.3 s, sys: 15.9 ms, total: 55.3 s\n",
      "Wall time: 13.8 s\n"
     ]
    }
   ],
   "source": [
    "%%time\n",
    "theta_opt03_1000, costs03_1000 = mod.gradientDescent(X_train, theta, y_train, alpha=0.03, track=True, iters=1000)"
   ]
  },
  {
   "cell_type": "code",
   "execution_count": 154,
   "metadata": {},
   "outputs": [
    {
     "name": "stdout",
     "output_type": "stream",
     "text": [
      "CPU times: user 55.6 s, sys: 83.8 ms, total: 55.7 s\n",
      "Wall time: 14 s\n"
     ]
    }
   ],
   "source": [
    "%%time\n",
    "theta_opt06_1000, costs06_1000 = mod.gradientDescent(X_train, theta, y_train, alpha=0.06, track=True, iters=1000)"
   ]
  },
  {
   "cell_type": "code",
   "execution_count": 262,
   "metadata": {},
   "outputs": [
    {
     "data": {
      "image/png": "[encoded data removed]",
      "text/plain": [
       "<Figure size 1058.4x595.44 with 1 Axes>"
      ]
     },
     "metadata": {
      "needs_background": "light"
     },
     "output_type": "display_data"
    }
   ],
   "source": [
    "x03 = [i*20 for i, j in enumerate(costs03_1000)]\n",
    "y03 = [j for i, j in enumerate(costs03_1000)]\n",
    "\n",
    "x06 = [i*20 for i, j in enumerate(costs06_1000)]\n",
    "y06 = [j for i, j in enumerate(costs06_1000)]\n",
    "\n",
    "titles= [\"Cost convergence with alpha=0.03 and alpha=0.06\"]\n",
    "\n",
    "axs = vis.createPlot(1,1,title=titles, xlabel=\"Iterations\", ylabel='Cost', sharey=True)\n",
    "\n",
    "sb.lineplot(x=x06,y=y06)\n",
    "sb.lineplot(x=x03,y=y03)\n",
    "plt.text(400,0.40,\"0.06 Min: {:.4f}\".format(np.min(costs06_1000)), fontsize=12);\n",
    "plt.text(400,0.42,\"0.03 Min: {:.4f}\".format(np.min(costs03_1000)), fontsize=12);\n"
   ]
  },
  {
   "cell_type": "markdown",
   "metadata": {},
   "source": [
    "### Performance\n",
    "* $\\alpha = 0.06$ appears to converge to a minimum of 0.3701 before **diverging**\n",
    "* $\\alpha = 0.03$ has a higher minimum than the $\\alpha = 0.06$ and is still converging.\n",
    "* The computations executed in 55.3, 55.6 seconds.\n",
    "*** \n",
    "To minimise risk of divergence we'll select a learning rate $\\alpha$ of 0.03. Lets inspect the convergence as we increase the number of iterations to 2000."
   ]
  },
  {
   "cell_type": "code",
   "execution_count": 12,
   "metadata": {},
   "outputs": [
    {
     "name": "stdout",
     "output_type": "stream",
     "text": [
      "CPU times: user 1min 51s, sys: 16 ms, total: 1min 51s\n",
      "Wall time: 27.9 s\n"
     ]
    }
   ],
   "source": [
    "%%time\n",
    "theta_opt03_2000, costs03_2000 = mod.gradientDescent(X_train, theta, y_train, alpha=0.03, track=True, iters=2000)"
   ]
  },
  {
   "cell_type": "code",
   "execution_count": 22,
   "metadata": {},
   "outputs": [
    {
     "data": {
      "image/png": "[encoded data removed]",
      "text/plain": [
       "<Figure size 1058.4x595.44 with 1 Axes>"
      ]
     },
     "metadata": {
      "needs_background": "light"
     },
     "output_type": "display_data"
    }
   ],
   "source": [
    "x03_2000 = [i*40 for i, j in enumerate(costs03_2000)]\n",
    "y03_2000 = [j for i, j in enumerate(costs03_2000)]\n",
    "\n",
    "title= [\"Cost convergence with alpha=0.03\", \"Cost convergence with alpha=0.06\"]\n",
    "\n",
    "axs = vis.createPlot(1,1,title=title, xlabel=\"Iterations\", ylabel='Cost')\n",
    "\n",
    "sb.lineplot(x=x03_2000,y=y03_2000)\n",
    "plt.text(900,0.38,\"Min: {:.4f}\".format(np.min(costs03_2000)), fontsize=12);"
   ]
  },
  {
   "cell_type": "markdown",
   "metadata": {},
   "source": [
    "### Performance\n",
    "* $\\alpha = 0.03$ converges to 0.3696 after 2000 iterations and 0.3806 after 500 iterations.\n",
    "* The computations executed in 1 minute 55 seconds and 30 seconds respectively.\n",
    "* Thess computation times should increase in speed significantly when we do not track the cost.\n",
    "***\n",
    "Lets now calculate our prediction accuracy using our theta parameter optimised over 2000 iterations."
   ]
  },
  {
   "cell_type": "code",
   "execution_count": 13,
   "metadata": {},
   "outputs": [
    {
     "name": "stdout",
     "output_type": "stream",
     "text": [
      "train: 88.02% test: 88.09%\n",
      "Convertions predicted: 0\n"
     ]
    }
   ],
   "source": [
    "# Predictions with theta optimised with 2000 iterations\n",
    "predict_train2000 = mod.predict(X_train, theta_opt03_2000)\n",
    "predict_test2000 = mod.predict(X_test, theta_opt03_2000)\n",
    "\n",
    "print(\"train:\", mod.predictAccuray(predict_train2000, y_train), \n",
    "          \"test:\", mod.predictAccuray(predict_test2000, y_test))\n",
    "\n",
    "print(\"Convertions predicted:\", predict_train2000.sum())"
   ]
  },
  {
   "cell_type": "markdown",
   "metadata": {},
   "source": [
    "Initially it seems that we have a good train and test accuracy of 88%, however, the model has failed to predict any positive conversions at all. We discovered in the A/B investigation that 12% of the total sample converted, therefore predicting all negative cases gives us the 88% accuracy seen here. Lets us the $F_1$ score as an alternative metric.\n",
    "\n",
    "$$Precision (P) = \\frac{True Positives}{True Positives + False Positives}$$\n",
    "\n",
    "$$Recall (R) = \\frac{True Positives}{True Positives + False Negatives}$$\n",
    "\n",
    "$$F_1 = 2\\frac{PR}{P+R}$$\n",
    "\n",
    "Because the model predicts no positive results, we have an $F_1$ score of zero. We need to optimise the prediction threshold since there are no examples with a sigmoid value greater than 0.5."
   ]
  },
  {
   "cell_type": "code",
   "execution_count": 48,
   "metadata": {},
   "outputs": [
    {
     "data": {
      "text/plain": [
       "(0.24115040000674867, 0.07653980079999573)"
      ]
     },
     "execution_count": 48,
     "metadata": {},
     "output_type": "execute_result"
    }
   ],
   "source": [
    "mod.sigmoid(X_train, theta_opt03_2000).max(), mod.sigmoid(X_train, theta_opt03_2000).min()"
   ]
  },
  {
   "cell_type": "code",
   "execution_count": 34,
   "metadata": {},
   "outputs": [
    {
     "data": {
      "text/plain": [
       "<module 'model' from '/home/ding/coding/DAND/AB_Test/features/model.py'>"
      ]
     },
     "execution_count": 34,
     "metadata": {},
     "output_type": "execute_result"
    }
   ],
   "source": [
    "import importlib\n",
    "importlib.reload(mod)"
   ]
  },
  {
   "cell_type": "code",
   "execution_count": 56,
   "metadata": {},
   "outputs": [
    {
     "data": {
      "text/plain": [
       "(0, 1.1)"
      ]
     },
     "execution_count": 56,
     "metadata": {},
     "output_type": "execute_result"
    },
    {
     "data": {
      "image/png": "[encoded data removed]",
      "text/plain": [
       "<Figure size 1058.4x595.44 with 1 Axes>"
      ]
     },
     "metadata": {
      "needs_background": "light"
     },
     "output_type": "display_data"
    }
   ],
   "source": [
    "thresholds = np.arange(0.07,0.25,0.01)\n",
    "labels = [\"{:.2f}\".format(i) for i in thresholds]\n",
    "\n",
    "accuracies = [mod.predictAccuray(mod.predict(X_train, theta_opt03_2000, i), y_train, pcnt=False) for i in thresholds]\n",
    "precisions = [mod.precision(mod.predict(X_train, theta_opt03_2000, i), y_train) for i in thresholds]\n",
    "recalls = [mod.recall(mod.predict(X_train, theta_opt03_2000, i), y_train) for i in thresholds]\n",
    "f1s = [mod.f1score(mod.predict(X_train, theta_opt03_2000, i), y_train) for i in thresholds]\n",
    "\n",
    "c=sb.color_palette()\n",
    "\n",
    "vis.createPlot(ylabel=\"Score\", xlabel=\"Sigmoid Threshold\");\n",
    "sb.pointplot(x=thresholds, y=accuracies, linestyles='--', color=c[0], markers='o')\n",
    "sb.pointplot(x=thresholds, y=precisions, linestyles='--', color=c[1], markers='^')\n",
    "sb.pointplot(x=thresholds, y=recalls, linestyles='--', color=c[2], markers=',')\n",
    "sb.pointplot(x=thresholds, y=f1s, linestyles='--', color=c[3], markers='+')\n",
    "\n",
    "import matplotlib.lines as mlines\n",
    "\n",
    "l0 = mlines.Line2D([],[], linestyle='--', color=c[0], marker='o')\n",
    "l1 = mlines.Line2D([],[], linestyle='--', color=c[1], marker='^')\n",
    "l2 = mlines.Line2D([],[], linestyle='--', color=c[2], marker=',')\n",
    "l3 = mlines.Line2D([],[], linestyle='--', color=c[3], marker='+')\n",
    "\n",
    "\n",
    "plt.legend((l0,l1,l2,l3), (\"Accuracy\",\"Precision\", \"Recall\", \"F1 Score\"));\n",
    "\n",
    "locs, _ = plt.xticks()\n",
    "plt.xticks(locs, labels);\n",
    "plt.yticks(np.arange(0,1.1,0.1))\n",
    "plt.title(\"Model Prediction Metrics Against Sigmoid Prediction Threshold\", fontsize=16, fontweight='bold');\n",
    "plt.ylim(0,1.1)"
   ]
  },
  {
   "cell_type": "markdown",
   "metadata": {},
   "source": [
    "### Interpretation\n",
    "* The highest accuracy is achieved when the model predicts **all** users do not convert\n",
    "* The highest recall is achieved when the model predicts **all** users do convert\n",
    "* The model precision remains fairly constant across the span of sigmoid thresholds\n",
    "* The $F_1$ score starts to trend toward zero whent he sigmoid threshold is 0.12.\n",
    "\n",
    "Finding the optimum balance of model performance depends on the business priorities. If the model is used for identifying the users who are most likely to make a purchase for marketing purposes, reducing the number of false negative predictions would probably be beneficial, therefore maximising recall would be sensible. Maximum recall is achieved when **all** users are predicted to make a purchase which is clearly not practical. A 50:50 balance between recall and model accuracy occurs when the sigmoid threshold is 0.125. At this point, the $F_1$ score has not deteriorated much either, therefore we'll select this value as our prediction threshold. \n",
    "***\n",
    "Lets now test our optimised parameters on the test set to measure performance."
   ]
  },
  {
   "cell_type": "code",
   "execution_count": 58,
   "metadata": {},
   "outputs": [
    {
     "name": "stdout",
     "output_type": "stream",
     "text": [
      "Training Accuracy:49.43%, F1 Score:0.1921741725703335\n",
      "Test Accuracy:49.65%, F1 Score:0.19159007606873812\n"
     ]
    }
   ],
   "source": [
    "predict_train = mod.predict(X_train, theta_opt03_2000, threshold=0.125)\n",
    "predict_test = mod.predict(X_test, theta_opt03_2000, threshold=0.125)\n",
    "\n",
    "f1_train = mod.f1score(predict_train, y_train)\n",
    "f1_test = mod.f1score(predict_test, y_test)\n",
    "\n",
    "train_acc = mod.predictAccuray(predict_train, y_train)\n",
    "test_acc = mod.predictAccuray(predict_test, y_test)\n",
    "\n",
    "print(\"Training Accuracy:{}, F1 Score:{}\".format(train_acc, f1_train))\n",
    "print(\"Test Accuracy:{}, F1 Score:{}\".format(test_acc, f1_test))"
   ]
  },
  {
   "cell_type": "code",
   "execution_count": 59,
   "metadata": {},
   "outputs": [
    {
     "name": "stdout",
     "output_type": "stream",
     "text": [
      "Training Accuracy:46.62%, F1 Score:0.19408036337187726\n",
      "Test Accuracy:46.66%, F1 Score:0.19446706047430146\n"
     ]
    }
   ],
   "source": [
    "predict_train = mod.predict(X_train, theta_opt03, threshold=0.125)\n",
    "predict_test = mod.predict(X_test, theta_opt03, threshold=0.125)\n",
    "\n",
    "f1_train = mod.f1score(predict_train, y_train)\n",
    "f1_test = mod.f1score(predict_test, y_test)\n",
    "\n",
    "train_acc = mod.predictAccuray(predict_train, y_train)\n",
    "test_acc = mod.predictAccuray(predict_test, y_test)\n",
    "\n",
    "print(\"Training Accuracy:{}, F1 Score:{}\".format(train_acc, f1_train))\n",
    "print(\"Test Accuracy:{}, F1 Score:{}\".format(test_acc, f1_test))"
   ]
  },
  {
   "cell_type": "code",
   "execution_count": null,
   "metadata": {},
   "outputs": [],
   "source": []
  },
  {
   "cell_type": "code",
   "execution_count": null,
   "metadata": {},
   "outputs": [],
   "source": []
  },
  {
   "cell_type": "code",
   "execution_count": null,
   "metadata": {},
   "outputs": [],
   "source": []
  },
  {
   "cell_type": "code",
   "execution_count": null,
   "metadata": {},
   "outputs": [],
   "source": []
  },
  {
   "cell_type": "code",
   "execution_count": null,
   "metadata": {},
   "outputs": [],
   "source": []
  },
  {
   "cell_type": "code",
   "execution_count": 59,
   "metadata": {},
   "outputs": [
    {
     "data": {
      "text/plain": [
       "(array([-0.94455336, -0.19689719, -0.13416713, -0.35716857, -0.45321765,\n",
       "        -0.0225541 , -0.01638714]),\n",
       " array([-0.37792756, -0.15353466, -0.03004187, -0.1168567 , -0.23102899,\n",
       "        -0.05753789, -0.04293885]))"
      ]
     },
     "execution_count": 59,
     "metadata": {},
     "output_type": "execute_result"
    }
   ],
   "source": [
    "theta_opt03_2000, theta_opt03"
   ]
  },
  {
   "cell_type": "code",
   "execution_count": 23,
   "metadata": {},
   "outputs": [],
   "source": [
    "# Prediction with theta optimised with 500 iterations\n",
    "predict_train500 = mod.predict(X_train, theta_opt03)\n",
    "predict_test500 = mod.predict(X_test, theta_opt03)\n",
    "\n",
    "# Predictions with theta optimised with 2000 iterations\n",
    "predict_train2000 = mod.predict(X_train, theta_opt03_2000)\n",
    "predict_test2000 = mod.predict(X_test, theta_opt03_2000)"
   ]
  },
  {
   "cell_type": "code",
   "execution_count": 24,
   "metadata": {},
   "outputs": [
    {
     "name": "stdout",
     "output_type": "stream",
     "text": [
      "500 iterations -> train: 88.02% test: 88.09%\n",
      "2000 iteration -> train: 88.02% test: 88.09%\n"
     ]
    }
   ],
   "source": [
    "print(\"500 iterations ->\", \"train:\", mod.predictAccuray(predict_train500, y_train), \n",
    "          \"test:\", mod.predictAccuray(predict_test500, y_test))\n",
    "print(\"2000 iteration ->\", \"train:\", mod.predictAccuray(predict_train2000, y_train), \n",
    "          \"test:\", mod.predictAccuray(predict_test2000, y_test))"
   ]
  },
  {
   "cell_type": "code",
   "execution_count": 27,
   "metadata": {},
   "outputs": [
    {
     "data": {
      "text/plain": [
       "array([0.13298843, 0.25103131, 0.12488387, ..., 0.07187819, 0.18455812,\n",
       "       0.18124888])"
      ]
     },
     "execution_count": 27,
     "metadata": {},
     "output_type": "execute_result"
    }
   ],
   "source": [
    "mod.sigmoid(X_train, theta_opt03)"
   ]
  },
  {
   "cell_type": "code",
   "execution_count": 46,
   "metadata": {},
   "outputs": [
    {
     "data": {
      "text/plain": [
       "0.07653980079999573"
      ]
     },
     "execution_count": 46,
     "metadata": {},
     "output_type": "execute_result"
    }
   ],
   "source": [
    "mod.sigmoid(X_train, theta_opt03_2000).min()"
   ]
  },
  {
   "cell_type": "code",
   "execution_count": 30,
   "metadata": {},
   "outputs": [
    {
     "data": {
      "text/plain": [
       "array([False, False, False, ..., False, False, False])"
      ]
     },
     "execution_count": 30,
     "metadata": {},
     "output_type": "execute_result"
    }
   ],
   "source": [
    "y_train == 1"
   ]
  },
  {
   "cell_type": "code",
   "execution_count": null,
   "metadata": {},
   "outputs": [],
   "source": []
  },
  {
   "cell_type": "code",
   "execution_count": null,
   "metadata": {},
   "outputs": [],
   "source": []
  },
  {
   "cell_type": "code",
   "execution_count": null,
   "metadata": {},
   "outputs": [],
   "source": []
  },
  {
   "cell_type": "markdown",
   "metadata": {},
   "source": [
    "There is no difference between the prediction accuracy using theta optimised through 500 and 2000 iterations. The prediction accuracy on the test is marginally higher than our train dataset. This tells us that are model is not overfitting the data so there is no need for regularisation.\n",
    "\n",
    "## Plan\n",
    "* Add and remove features, identify significant features\n",
    "* Repeat assessment using scikit learn."
   ]
  },
  {
   "cell_type": "code",
   "execution_count": 278,
   "metadata": {},
   "outputs": [
    {
     "data": {
      "text/html": [
       "<div>\n",
       "<style scoped>\n",
       "    .dataframe tbody tr th:only-of-type {\n",
       "        vertical-align: middle;\n",
       "    }\n",
       "\n",
       "    .dataframe tbody tr th {\n",
       "        vertical-align: top;\n",
       "    }\n",
       "\n",
       "    .dataframe thead th {\n",
       "        text-align: right;\n",
       "    }\n",
       "</style>\n",
       "<table border=\"1\" class=\"dataframe\">\n",
       "  <thead>\n",
       "    <tr style=\"text-align: right;\">\n",
       "      <th></th>\n",
       "      <th>intercept</th>\n",
       "      <th>group</th>\n",
       "      <th>CA</th>\n",
       "      <th>UK</th>\n",
       "      <th>US</th>\n",
       "      <th>day</th>\n",
       "      <th>hour</th>\n",
       "      <th>converted</th>\n",
       "    </tr>\n",
       "  </thead>\n",
       "  <tbody>\n",
       "    <tr>\n",
       "      <th>2</th>\n",
       "      <td>1</td>\n",
       "      <td>1</td>\n",
       "      <td>0</td>\n",
       "      <td>0</td>\n",
       "      <td>1</td>\n",
       "      <td>11</td>\n",
       "      <td>16</td>\n",
       "      <td>0</td>\n",
       "    </tr>\n",
       "    <tr>\n",
       "      <th>5</th>\n",
       "      <td>1</td>\n",
       "      <td>0</td>\n",
       "      <td>0</td>\n",
       "      <td>0</td>\n",
       "      <td>1</td>\n",
       "      <td>10</td>\n",
       "      <td>15</td>\n",
       "      <td>0</td>\n",
       "    </tr>\n",
       "    <tr>\n",
       "      <th>7</th>\n",
       "      <td>1</td>\n",
       "      <td>0</td>\n",
       "      <td>0</td>\n",
       "      <td>0</td>\n",
       "      <td>1</td>\n",
       "      <td>17</td>\n",
       "      <td>1</td>\n",
       "      <td>0</td>\n",
       "    </tr>\n",
       "    <tr>\n",
       "      <th>9</th>\n",
       "      <td>1</td>\n",
       "      <td>1</td>\n",
       "      <td>1</td>\n",
       "      <td>0</td>\n",
       "      <td>0</td>\n",
       "      <td>15</td>\n",
       "      <td>18</td>\n",
       "      <td>1</td>\n",
       "    </tr>\n",
       "    <tr>\n",
       "      <th>13</th>\n",
       "      <td>1</td>\n",
       "      <td>1</td>\n",
       "      <td>0</td>\n",
       "      <td>0</td>\n",
       "      <td>1</td>\n",
       "      <td>22</td>\n",
       "      <td>1</td>\n",
       "      <td>0</td>\n",
       "    </tr>\n",
       "  </tbody>\n",
       "</table>\n",
       "</div>"
      ],
      "text/plain": [
       "    intercept  group  CA  UK  US  day  hour  converted\n",
       "2           1      1   0   0   1   11    16          0\n",
       "5           1      0   0   0   1   10    15          0\n",
       "7           1      0   0   0   1   17     1          0\n",
       "9           1      1   1   0   0   15    18          1\n",
       "13          1      1   0   0   1   22     1          0"
      ]
     },
     "execution_count": 278,
     "metadata": {},
     "output_type": "execute_result"
    }
   ],
   "source": [
    "df_test.head()"
   ]
  },
  {
   "cell_type": "code",
   "execution_count": 287,
   "metadata": {},
   "outputs": [
    {
     "data": {
      "text/plain": [
       "'88.02%'"
      ]
     },
     "execution_count": 287,
     "metadata": {},
     "output_type": "execute_result"
    }
   ],
   "source": [
    "X_train_day = df_train.iloc[:,:-2]\n",
    "theta = np.zeros(X_train_day.shape[1])\n",
    "\n",
    "theta_opt_day = mod.gradientDescent(X_train_day, theta, y_train, alpha=0.03, iters=500)\n",
    "mod.predictAccuray(mod.predict(X_train_day,theta_opt_day), y_train)"
   ]
  },
  {
   "cell_type": "code",
   "execution_count": 288,
   "metadata": {},
   "outputs": [
    {
     "data": {
      "text/plain": [
       "'88.02%'"
      ]
     },
     "execution_count": 288,
     "metadata": {},
     "output_type": "execute_result"
    }
   ],
   "source": [
    "X = df_train.iloc[:,:-3]\n",
    "theta = np.zeros(X.shape[1])\n",
    "\n",
    "theta_opt = mod.gradientDescent(X, theta, y_train, alpha=0.03, iters=500)\n",
    "mod.predictAccuray(mod.predict(X,theta_opt), y_train)"
   ]
  },
  {
   "cell_type": "code",
   "execution_count": 299,
   "metadata": {},
   "outputs": [
    {
     "data": {
      "text/plain": [
       "'88.02%'"
      ]
     },
     "execution_count": 299,
     "metadata": {},
     "output_type": "execute_result"
    }
   ],
   "source": [
    "X = df_train.iloc[:,[0,1,5,6]]\n",
    "theta = np.zeros(X.shape[1])\n",
    "\n",
    "theta_opt = mod.gradientDescent(X, theta, y_train, alpha=0.03, iters=500)\n",
    "mod.predictAccuray(mod.predict(X,theta_opt), y_train)"
   ]
  },
  {
   "cell_type": "code",
   "execution_count": 295,
   "metadata": {},
   "outputs": [
    {
     "data": {
      "text/plain": [
       "'88.02%'"
      ]
     },
     "execution_count": 295,
     "metadata": {},
     "output_type": "execute_result"
    }
   ],
   "source": [
    "X = df_train.iloc[:,[0]]\n",
    "theta = np.zeros(X.shape[1])\n",
    "\n",
    "theta_opt = mod.gradientDescent(X, theta, y_train, alpha=0.03, iters=500)\n",
    "mod.predictAccuray(mod.predict(X,theta_opt), y_train)"
   ]
  },
  {
   "cell_type": "code",
   "execution_count": 300,
   "metadata": {},
   "outputs": [
    {
     "data": {
      "text/plain": [
       "array([  77337.5,   38662.5, 1009523.5,  887994. ])"
      ]
     },
     "execution_count": 300,
     "metadata": {},
     "output_type": "execute_result"
    }
   ],
   "source": [
    "h = mod.sigmoid(X, theta)\n",
    "np.dot(X.T,(h-y_train))"
   ]
  },
  {
   "cell_type": "code",
   "execution_count": 301,
   "metadata": {},
   "outputs": [
    {
     "data": {
      "text/plain": [
       "'11.98%'"
      ]
     },
     "execution_count": 301,
     "metadata": {},
     "output_type": "execute_result"
    }
   ],
   "source": [
    "mod.predictAccuray(mod.predict(X,theta), y_train)"
   ]
  },
  {
   "cell_type": "code",
   "execution_count": null,
   "metadata": {},
   "outputs": [],
   "source": []
  }
 ],
 "metadata": {
  "kernelspec": {
   "display_name": "Python 3",
   "language": "python",
   "name": "python3"
  },
  "language_info": {
   "codemirror_mode": {
    "name": "ipython",
    "version": 3
   },
   "file_extension": ".py",
   "mimetype": "text/x-python",
   "name": "python",
   "nbconvert_exporter": "python",
   "pygments_lexer": "ipython3",
   "version": "3.7.3"
  }
 },
 "nbformat": 4,
 "nbformat_minor": 2
}
