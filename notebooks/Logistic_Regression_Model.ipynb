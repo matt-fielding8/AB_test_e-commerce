{
 "cells": [
  {
   "cell_type": "markdown",
   "metadata": {},
   "source": [
    "# Logistic Regression for E-Commerce\n",
    "\n",
    "In the [AB_Test notebook](http://localhost:8888/notebooks/notebooks/AB_Test.ipynb), we analysed the results of an A/B test experiment run by an e-commerce website. We could not reject the null hypothesis that states, \"The conversion rate for the new webpage is the same or worse than the conversion rate for the old page\" based on a 5% type 1 error rate and made the recommendation that the new page is not implemented. \n",
    "\n",
    "In this notebook, we build a logisitic regression model to predict the probability of individual user conversion. This model may help the e-commerce site understand which users are most and least likely to make a purchase and implement their marketing strategies accordingly.\n",
    "\n",
    "## Introduction\n",
    "An e-commerce company has developed a new web page in order to try and increase purchases (conversions) made through their site. They have run an AB experiment and collected data regarding the number of conversions for a control group and a treatment group. The objective of this project is to assess the data and help the company understand if they should implement this new page, keep the old page, or run the experiment longer to make their decision.\n",
    "\n",
    "\n",
    "\n",
    "## Data Overview\n",
    "The datasets for this project are provided by **Udacity** in association with their **Data Analyst Nanodegree** programme. They have been generated to represent example A/B experiment results from an e-commerce website. There are 2 raw csv files:\n",
    "\n",
    "  * `ab_test.csv` - contains information regarding the group (control or treatment), landing page (old or new), timestamp of visit and conversion.\n",
    "  * `countries.csv` - contains information regarding the country of origin of each user.\n",
    "  \n",
    "  ***\n",
    "## Regression Analysis\n",
    "Given that user conversion is binary, another method we can use to investigate the probability of conversion is logistic regression. To reinforce conceptual understanding of logistic regression algorithms we will build them from scratch then compare and optimise performance. \n",
    "\n",
    "Model plan:\n",
    "* Engineer features in ab_test_clean.csv\n",
    "* Divide the dataset randomly into a 70:30 training and test set split\n",
    "* Train unregularised logistic regression model. Assess performance against mutliple learning rates $\\alpha$\n",
    "* Train regularised logistic regression model. Compare training accuracy for multiple values of $\\lambda$"
   ]
  },
  {
   "cell_type": "code",
   "execution_count": null,
   "metadata": {},
   "outputs": [],
   "source": []
  }
 ],
 "metadata": {
  "kernelspec": {
   "display_name": "Python 3",
   "language": "python",
   "name": "python3"
  },
  "language_info": {
   "codemirror_mode": {
    "name": "ipython",
    "version": 3
   },
   "file_extension": ".py",
   "mimetype": "text/x-python",
   "name": "python",
   "nbconvert_exporter": "python",
   "pygments_lexer": "ipython3",
   "version": "3.7.3"
  }
 },
 "nbformat": 4,
 "nbformat_minor": 2
}
