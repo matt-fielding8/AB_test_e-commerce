{
 "cells": [
  {
   "cell_type": "markdown",
   "metadata": {},
   "source": [
    "# A/B Test for E-Commerce\n",
    "\n",
    "In this project we conduct an A/B test for a fictional e-commerce website, **_Audacity_**. The objective is to analyse the results of an A/B test run by Audacity and recommend action on whether to implement their new webpage, continue using their old web-page or collect more experimental data.\n",
    "\n",
    "## Data Overview\n",
    "\n",
    "The dataset used in this project is provided by Udacity as part of their Data Analyst Nanodegree programme. \n",
    "\n",
    "* **`ab_data.csv`** -  Contains `user_id`, `timestamp`, `group` (control or treatment), `landing_page` (old_page or new_page) and whether each user `converted` or not.\n",
    "* **`countries.csv`** - Contains `user_id` and `country` information"
   ]
  },
  {
   "cell_type": "code",
   "execution_count": 26,
   "metadata": {},
   "outputs": [],
   "source": [
    "# Imports\n",
    "import pandas as pd\n",
    "import numpy as np\n",
    "import matplotlib.pyplot as plt\n",
    "import seaborn as sb\n",
    "from datetime import datetime\n",
    "import os\n",
    "import sys\n",
    "\n",
    "%matplotlib inline\n",
    "\n",
    "path = os.path.abspath(os.path.join('../features'))\n",
    "if path not in sys.path:\n",
    "    sys.path.append(path)\n",
    "\n",
    "import visualise as vis\n",
    "\n",
    "# Seed random to keep values common for each execution\n",
    "np.random.seed(42)"
   ]
  },
  {
   "cell_type": "code",
   "execution_count": 27,
   "metadata": {},
   "outputs": [],
   "source": [
    "df_ab = pd.read_csv('../data/ab_data.csv')\n",
    "df_country = pd.read_csv('../data/countries.csv')"
   ]
  },
  {
   "cell_type": "markdown",
   "metadata": {},
   "source": [
    "## Data Assessment"
   ]
  },
  {
   "cell_type": "code",
   "execution_count": 28,
   "metadata": {},
   "outputs": [
    {
     "data": {
      "text/html": [
       "<div>\n",
       "<style scoped>\n",
       "    .dataframe tbody tr th:only-of-type {\n",
       "        vertical-align: middle;\n",
       "    }\n",
       "\n",
       "    .dataframe tbody tr th {\n",
       "        vertical-align: top;\n",
       "    }\n",
       "\n",
       "    .dataframe thead th {\n",
       "        text-align: right;\n",
       "    }\n",
       "</style>\n",
       "<table border=\"1\" class=\"dataframe\">\n",
       "  <thead>\n",
       "    <tr style=\"text-align: right;\">\n",
       "      <th></th>\n",
       "      <th>user_id</th>\n",
       "      <th>timestamp</th>\n",
       "      <th>group</th>\n",
       "      <th>landing_page</th>\n",
       "      <th>converted</th>\n",
       "    </tr>\n",
       "  </thead>\n",
       "  <tbody>\n",
       "    <tr>\n",
       "      <th>0</th>\n",
       "      <td>851104</td>\n",
       "      <td>2017-01-21 22:11:48.556739</td>\n",
       "      <td>control</td>\n",
       "      <td>old_page</td>\n",
       "      <td>0</td>\n",
       "    </tr>\n",
       "    <tr>\n",
       "      <th>1</th>\n",
       "      <td>804228</td>\n",
       "      <td>2017-01-12 08:01:45.159739</td>\n",
       "      <td>control</td>\n",
       "      <td>old_page</td>\n",
       "      <td>0</td>\n",
       "    </tr>\n",
       "    <tr>\n",
       "      <th>2</th>\n",
       "      <td>661590</td>\n",
       "      <td>2017-01-11 16:55:06.154213</td>\n",
       "      <td>treatment</td>\n",
       "      <td>new_page</td>\n",
       "      <td>0</td>\n",
       "    </tr>\n",
       "    <tr>\n",
       "      <th>3</th>\n",
       "      <td>853541</td>\n",
       "      <td>2017-01-08 18:28:03.143765</td>\n",
       "      <td>treatment</td>\n",
       "      <td>new_page</td>\n",
       "      <td>0</td>\n",
       "    </tr>\n",
       "    <tr>\n",
       "      <th>4</th>\n",
       "      <td>864975</td>\n",
       "      <td>2017-01-21 01:52:26.210827</td>\n",
       "      <td>control</td>\n",
       "      <td>old_page</td>\n",
       "      <td>1</td>\n",
       "    </tr>\n",
       "  </tbody>\n",
       "</table>\n",
       "</div>"
      ],
      "text/plain": [
       "   user_id                   timestamp      group landing_page  converted\n",
       "0   851104  2017-01-21 22:11:48.556739    control     old_page          0\n",
       "1   804228  2017-01-12 08:01:45.159739    control     old_page          0\n",
       "2   661590  2017-01-11 16:55:06.154213  treatment     new_page          0\n",
       "3   853541  2017-01-08 18:28:03.143765  treatment     new_page          0\n",
       "4   864975  2017-01-21 01:52:26.210827    control     old_page          1"
      ]
     },
     "execution_count": 28,
     "metadata": {},
     "output_type": "execute_result"
    }
   ],
   "source": [
    "df_ab.head()"
   ]
  },
  {
   "cell_type": "code",
   "execution_count": 29,
   "metadata": {},
   "outputs": [
    {
     "name": "stdout",
     "output_type": "stream",
     "text": [
      "<class 'pandas.core.frame.DataFrame'>\n",
      "RangeIndex: 294478 entries, 0 to 294477\n",
      "Data columns (total 5 columns):\n",
      "user_id         294478 non-null int64\n",
      "timestamp       294478 non-null object\n",
      "group           294478 non-null object\n",
      "landing_page    294478 non-null object\n",
      "converted       294478 non-null int64\n",
      "dtypes: int64(2), object(3)\n",
      "memory usage: 11.2+ MB\n"
     ]
    }
   ],
   "source": [
    "df_ab.info()"
   ]
  },
  {
   "cell_type": "markdown",
   "metadata": {},
   "source": [
    "* No null values in any column\n",
    "* Timestamp is object not datetime"
   ]
  },
  {
   "cell_type": "code",
   "execution_count": 30,
   "metadata": {},
   "outputs": [
    {
     "data": {
      "text/plain": [
       "(3894, 0)"
      ]
     },
     "execution_count": 30,
     "metadata": {},
     "output_type": "execute_result"
    }
   ],
   "source": [
    "df_ab.user_id.duplicated().sum(), df_ab.duplicated().sum()"
   ]
  },
  {
   "cell_type": "markdown",
   "metadata": {},
   "source": [
    "* There are 3894 duplicate `user_id`'s who have visited more than once.\n",
    "* None of the rows are duplicated"
   ]
  },
  {
   "cell_type": "code",
   "execution_count": 31,
   "metadata": {},
   "outputs": [
    {
     "data": {
      "text/html": [
       "<div>\n",
       "<style scoped>\n",
       "    .dataframe tbody tr th:only-of-type {\n",
       "        vertical-align: middle;\n",
       "    }\n",
       "\n",
       "    .dataframe tbody tr th {\n",
       "        vertical-align: top;\n",
       "    }\n",
       "\n",
       "    .dataframe thead th {\n",
       "        text-align: right;\n",
       "    }\n",
       "</style>\n",
       "<table border=\"1\" class=\"dataframe\">\n",
       "  <thead>\n",
       "    <tr style=\"text-align: right;\">\n",
       "      <th></th>\n",
       "      <th>user_id</th>\n",
       "      <th>timestamp</th>\n",
       "      <th>group</th>\n",
       "      <th>landing_page</th>\n",
       "      <th>converted</th>\n",
       "    </tr>\n",
       "  </thead>\n",
       "  <tbody>\n",
       "    <tr>\n",
       "      <th>230259</th>\n",
       "      <td>630052</td>\n",
       "      <td>2017-01-17 01:16:05.208766</td>\n",
       "      <td>treatment</td>\n",
       "      <td>new_page</td>\n",
       "      <td>0</td>\n",
       "    </tr>\n",
       "    <tr>\n",
       "      <th>213114</th>\n",
       "      <td>630052</td>\n",
       "      <td>2017-01-07 12:25:54.089486</td>\n",
       "      <td>treatment</td>\n",
       "      <td>old_page</td>\n",
       "      <td>1</td>\n",
       "    </tr>\n",
       "    <tr>\n",
       "      <th>22513</th>\n",
       "      <td>630126</td>\n",
       "      <td>2017-01-14 13:35:54.778695</td>\n",
       "      <td>treatment</td>\n",
       "      <td>old_page</td>\n",
       "      <td>0</td>\n",
       "    </tr>\n",
       "    <tr>\n",
       "      <th>251762</th>\n",
       "      <td>630126</td>\n",
       "      <td>2017-01-19 17:16:00.280440</td>\n",
       "      <td>treatment</td>\n",
       "      <td>new_page</td>\n",
       "      <td>0</td>\n",
       "    </tr>\n",
       "    <tr>\n",
       "      <th>183371</th>\n",
       "      <td>630137</td>\n",
       "      <td>2017-01-20 02:08:49.893878</td>\n",
       "      <td>control</td>\n",
       "      <td>old_page</td>\n",
       "      <td>0</td>\n",
       "    </tr>\n",
       "    <tr>\n",
       "      <th>11792</th>\n",
       "      <td>630137</td>\n",
       "      <td>2017-01-22 14:59:22.051308</td>\n",
       "      <td>control</td>\n",
       "      <td>new_page</td>\n",
       "      <td>0</td>\n",
       "    </tr>\n",
       "    <tr>\n",
       "      <th>207211</th>\n",
       "      <td>630320</td>\n",
       "      <td>2017-01-07 18:02:43.626318</td>\n",
       "      <td>control</td>\n",
       "      <td>old_page</td>\n",
       "      <td>0</td>\n",
       "    </tr>\n",
       "    <tr>\n",
       "      <th>255753</th>\n",
       "      <td>630320</td>\n",
       "      <td>2017-01-12 05:27:37.181803</td>\n",
       "      <td>treatment</td>\n",
       "      <td>old_page</td>\n",
       "      <td>0</td>\n",
       "    </tr>\n",
       "    <tr>\n",
       "      <th>96929</th>\n",
       "      <td>630471</td>\n",
       "      <td>2017-01-07 02:14:17.405726</td>\n",
       "      <td>control</td>\n",
       "      <td>new_page</td>\n",
       "      <td>0</td>\n",
       "    </tr>\n",
       "    <tr>\n",
       "      <th>110634</th>\n",
       "      <td>630471</td>\n",
       "      <td>2017-01-23 01:42:51.501851</td>\n",
       "      <td>control</td>\n",
       "      <td>old_page</td>\n",
       "      <td>0</td>\n",
       "    </tr>\n",
       "  </tbody>\n",
       "</table>\n",
       "</div>"
      ],
      "text/plain": [
       "        user_id                   timestamp      group landing_page  converted\n",
       "230259   630052  2017-01-17 01:16:05.208766  treatment     new_page          0\n",
       "213114   630052  2017-01-07 12:25:54.089486  treatment     old_page          1\n",
       "22513    630126  2017-01-14 13:35:54.778695  treatment     old_page          0\n",
       "251762   630126  2017-01-19 17:16:00.280440  treatment     new_page          0\n",
       "183371   630137  2017-01-20 02:08:49.893878    control     old_page          0\n",
       "11792    630137  2017-01-22 14:59:22.051308    control     new_page          0\n",
       "207211   630320  2017-01-07 18:02:43.626318    control     old_page          0\n",
       "255753   630320  2017-01-12 05:27:37.181803  treatment     old_page          0\n",
       "96929    630471  2017-01-07 02:14:17.405726    control     new_page          0\n",
       "110634   630471  2017-01-23 01:42:51.501851    control     old_page          0"
      ]
     },
     "execution_count": 31,
     "metadata": {},
     "output_type": "execute_result"
    }
   ],
   "source": [
    "df_ab[df_ab.user_id.duplicated(keep=False)].sort_values(by='user_id').head(10)"
   ]
  },
  {
   "cell_type": "code",
   "execution_count": 32,
   "metadata": {},
   "outputs": [
    {
     "name": "stdout",
     "output_type": "stream",
     "text": [
      "Rows misaligned: 3893\n"
     ]
    }
   ],
   "source": [
    "print(\"Rows misaligned:\", (((df_ab.group == \"control\")&(df_ab.landing_page != \"old_page\"))|\\\n",
    "        ((df_ab.group == \"treatment\")&(df_ab.landing_page != \"new_page\"))).sum())"
   ]
  },
  {
   "cell_type": "markdown",
   "metadata": {},
   "source": [
    "* There are 3893 rows with mismatched `group` and `landing_page` variables where:\n",
    "    * `control != old_page` OR `treatment != new_page`"
   ]
  },
  {
   "cell_type": "code",
   "execution_count": 33,
   "metadata": {},
   "outputs": [
    {
     "data": {
      "text/html": [
       "<div>\n",
       "<style scoped>\n",
       "    .dataframe tbody tr th:only-of-type {\n",
       "        vertical-align: middle;\n",
       "    }\n",
       "\n",
       "    .dataframe tbody tr th {\n",
       "        vertical-align: top;\n",
       "    }\n",
       "\n",
       "    .dataframe thead th {\n",
       "        text-align: right;\n",
       "    }\n",
       "</style>\n",
       "<table border=\"1\" class=\"dataframe\">\n",
       "  <thead>\n",
       "    <tr style=\"text-align: right;\">\n",
       "      <th></th>\n",
       "      <th>user_id</th>\n",
       "      <th>timestamp</th>\n",
       "      <th>group</th>\n",
       "      <th>landing_page</th>\n",
       "      <th>converted</th>\n",
       "    </tr>\n",
       "  </thead>\n",
       "  <tbody>\n",
       "    <tr>\n",
       "      <th>1899</th>\n",
       "      <td>773192</td>\n",
       "      <td>2017-01-09 05:37:58.781806</td>\n",
       "      <td>treatment</td>\n",
       "      <td>new_page</td>\n",
       "      <td>0</td>\n",
       "    </tr>\n",
       "    <tr>\n",
       "      <th>2893</th>\n",
       "      <td>773192</td>\n",
       "      <td>2017-01-14 02:55:59.590927</td>\n",
       "      <td>treatment</td>\n",
       "      <td>new_page</td>\n",
       "      <td>0</td>\n",
       "    </tr>\n",
       "  </tbody>\n",
       "</table>\n",
       "</div>"
      ],
      "text/plain": [
       "      user_id                   timestamp      group landing_page  converted\n",
       "1899   773192  2017-01-09 05:37:58.781806  treatment     new_page          0\n",
       "2893   773192  2017-01-14 02:55:59.590927  treatment     new_page          0"
      ]
     },
     "execution_count": 33,
     "metadata": {},
     "output_type": "execute_result"
    }
   ],
   "source": [
    "df = df_ab[(((df_ab.group == \"control\")&(df_ab.landing_page == \"old_page\"))|\\\n",
    "        ((df_ab.group == \"treatment\")&(df_ab.landing_page == \"new_page\")))]\n",
    "\n",
    "df[df.user_id.duplicated(keep=False)]"
   ]
  },
  {
   "cell_type": "markdown",
   "metadata": {},
   "source": [
    "* There is only one duplicated `user_id` in the sample whcih does not have mismatched `group` and `landing_page`. * They were exposed to the new page twice and converted neither times."
   ]
  },
  {
   "cell_type": "code",
   "execution_count": 34,
   "metadata": {},
   "outputs": [
    {
     "data": {
      "text/html": [
       "<div>\n",
       "<style scoped>\n",
       "    .dataframe tbody tr th:only-of-type {\n",
       "        vertical-align: middle;\n",
       "    }\n",
       "\n",
       "    .dataframe tbody tr th {\n",
       "        vertical-align: top;\n",
       "    }\n",
       "\n",
       "    .dataframe thead th {\n",
       "        text-align: right;\n",
       "    }\n",
       "</style>\n",
       "<table border=\"1\" class=\"dataframe\">\n",
       "  <thead>\n",
       "    <tr style=\"text-align: right;\">\n",
       "      <th></th>\n",
       "      <th>user_id</th>\n",
       "      <th>country</th>\n",
       "    </tr>\n",
       "  </thead>\n",
       "  <tbody>\n",
       "    <tr>\n",
       "      <th>0</th>\n",
       "      <td>834778</td>\n",
       "      <td>UK</td>\n",
       "    </tr>\n",
       "    <tr>\n",
       "      <th>1</th>\n",
       "      <td>928468</td>\n",
       "      <td>US</td>\n",
       "    </tr>\n",
       "    <tr>\n",
       "      <th>2</th>\n",
       "      <td>822059</td>\n",
       "      <td>UK</td>\n",
       "    </tr>\n",
       "    <tr>\n",
       "      <th>3</th>\n",
       "      <td>711597</td>\n",
       "      <td>UK</td>\n",
       "    </tr>\n",
       "    <tr>\n",
       "      <th>4</th>\n",
       "      <td>710616</td>\n",
       "      <td>UK</td>\n",
       "    </tr>\n",
       "  </tbody>\n",
       "</table>\n",
       "</div>"
      ],
      "text/plain": [
       "   user_id country\n",
       "0   834778      UK\n",
       "1   928468      US\n",
       "2   822059      UK\n",
       "3   711597      UK\n",
       "4   710616      UK"
      ]
     },
     "execution_count": 34,
     "metadata": {},
     "output_type": "execute_result"
    }
   ],
   "source": [
    "df_country.head()"
   ]
  },
  {
   "cell_type": "markdown",
   "metadata": {},
   "source": [
    "* `df_country` contains the `user_id` and `country` information. \n",
    "* `user_id` is a primary key we can merge the dataframes on"
   ]
  },
  {
   "cell_type": "code",
   "execution_count": 35,
   "metadata": {},
   "outputs": [
    {
     "name": "stdout",
     "output_type": "stream",
     "text": [
      "<class 'pandas.core.frame.DataFrame'>\n",
      "RangeIndex: 290584 entries, 0 to 290583\n",
      "Data columns (total 2 columns):\n",
      "user_id    290584 non-null int64\n",
      "country    290584 non-null object\n",
      "dtypes: int64(1), object(1)\n",
      "memory usage: 4.4+ MB\n"
     ]
    }
   ],
   "source": [
    "df_country.info()"
   ]
  },
  {
   "cell_type": "code",
   "execution_count": 36,
   "metadata": {},
   "outputs": [
    {
     "data": {
      "text/plain": [
       "(290584, 290584)"
      ]
     },
     "execution_count": 36,
     "metadata": {},
     "output_type": "execute_result"
    }
   ],
   "source": [
    "df_ab.user_id.nunique(), df_country.user_id.nunique()"
   ]
  },
  {
   "cell_type": "markdown",
   "metadata": {},
   "source": [
    "* There number of unique `user_id`'s in each dataframe are equal.\n",
    "* There are no duplicated `user_id`'s in `df_country`"
   ]
  },
  {
   "cell_type": "markdown",
   "metadata": {},
   "source": [
    "### Assessment Summary\n",
    "* No null values in any column\n",
    "* Timestamp is object not datetime\n",
    "* There are 3894 duplicate `user_id`'s who have visited more than once.\n",
    "* None of the rows are duplicated\n",
    "* There are 3893 rows with mismatched `group` and `landing_page` variables where:\n",
    "    * `control != old_page` OR `treatment != new_page`\n",
    "* There is only one duplicated `user_id` in the sample whcih does not have mismatched `group` and `landing_page`.\n",
    "* There number of unique `user_id`'s in each dataframe are equal.\n",
    "* There are no duplicated `user_id`'s in `df_country`\n",
    "***\n",
    "### Define Fixes\n",
    "* Convert `timestamp` to datetime\n",
    "* Drop rows with misaligned `group` and `landing_page` variables\n",
    "* Drop one instance of the remaining duplicated `user_id` to ensure conversion rates apply to only unique users.\n",
    "* Merge `country` from `df_country` into `df_ab`\n",
    "***\n",
    "### Code & Test"
   ]
  },
  {
   "cell_type": "code",
   "execution_count": 37,
   "metadata": {},
   "outputs": [],
   "source": [
    "## Create copy of df_ab\n",
    "df_clean = df_ab.copy()"
   ]
  },
  {
   "cell_type": "code",
   "execution_count": 38,
   "metadata": {},
   "outputs": [
    {
     "name": "stdout",
     "output_type": "stream",
     "text": [
      "<class 'pandas.core.frame.DataFrame'>\n",
      "RangeIndex: 294478 entries, 0 to 294477\n",
      "Data columns (total 5 columns):\n",
      "user_id         294478 non-null int64\n",
      "timestamp       294478 non-null datetime64[ns]\n",
      "group           294478 non-null object\n",
      "landing_page    294478 non-null object\n",
      "converted       294478 non-null int64\n",
      "dtypes: datetime64[ns](1), int64(2), object(2)\n",
      "memory usage: 11.2+ MB\n"
     ]
    }
   ],
   "source": [
    "df_clean.timestamp = pd.to_datetime(df_clean.timestamp)\n",
    "df_clean.info()"
   ]
  },
  {
   "cell_type": "code",
   "execution_count": 39,
   "metadata": {},
   "outputs": [],
   "source": [
    "## Remove misalgined group and landing pages\n",
    "df_clean = df_ab[(((df_ab.group == \"control\")&(df_ab.landing_page == \"old_page\"))|\\\n",
    "                ((df_ab.group == \"treatment\")&(df_ab.landing_page == \"new_page\")))]\n",
    "\n",
    "assert all(df_clean[df_clean.group == \"control\"].landing_page == 'old_page')\n",
    "assert all(df_clean[df_clean.group == \"treatment\"].landing_page == 'new_page')"
   ]
  },
  {
   "cell_type": "code",
   "execution_count": 40,
   "metadata": {},
   "outputs": [],
   "source": [
    "## Drop duplicated user_id\n",
    "df_clean = df_clean[~df_clean.user_id.duplicated()]\n",
    "\n",
    "assert not all(df_clean.user_id.duplicated())"
   ]
  },
  {
   "cell_type": "code",
   "execution_count": 41,
   "metadata": {},
   "outputs": [
    {
     "data": {
      "text/html": [
       "<div>\n",
       "<style scoped>\n",
       "    .dataframe tbody tr th:only-of-type {\n",
       "        vertical-align: middle;\n",
       "    }\n",
       "\n",
       "    .dataframe tbody tr th {\n",
       "        vertical-align: top;\n",
       "    }\n",
       "\n",
       "    .dataframe thead th {\n",
       "        text-align: right;\n",
       "    }\n",
       "</style>\n",
       "<table border=\"1\" class=\"dataframe\">\n",
       "  <thead>\n",
       "    <tr style=\"text-align: right;\">\n",
       "      <th></th>\n",
       "      <th>user_id</th>\n",
       "      <th>timestamp</th>\n",
       "      <th>group</th>\n",
       "      <th>landing_page</th>\n",
       "      <th>converted</th>\n",
       "      <th>country</th>\n",
       "    </tr>\n",
       "  </thead>\n",
       "  <tbody>\n",
       "    <tr>\n",
       "      <th>0</th>\n",
       "      <td>851104</td>\n",
       "      <td>2017-01-21 22:11:48.556739</td>\n",
       "      <td>control</td>\n",
       "      <td>old_page</td>\n",
       "      <td>0</td>\n",
       "      <td>US</td>\n",
       "    </tr>\n",
       "    <tr>\n",
       "      <th>1</th>\n",
       "      <td>804228</td>\n",
       "      <td>2017-01-12 08:01:45.159739</td>\n",
       "      <td>control</td>\n",
       "      <td>old_page</td>\n",
       "      <td>0</td>\n",
       "      <td>US</td>\n",
       "    </tr>\n",
       "    <tr>\n",
       "      <th>2</th>\n",
       "      <td>661590</td>\n",
       "      <td>2017-01-11 16:55:06.154213</td>\n",
       "      <td>treatment</td>\n",
       "      <td>new_page</td>\n",
       "      <td>0</td>\n",
       "      <td>US</td>\n",
       "    </tr>\n",
       "    <tr>\n",
       "      <th>3</th>\n",
       "      <td>853541</td>\n",
       "      <td>2017-01-08 18:28:03.143765</td>\n",
       "      <td>treatment</td>\n",
       "      <td>new_page</td>\n",
       "      <td>0</td>\n",
       "      <td>US</td>\n",
       "    </tr>\n",
       "    <tr>\n",
       "      <th>4</th>\n",
       "      <td>864975</td>\n",
       "      <td>2017-01-21 01:52:26.210827</td>\n",
       "      <td>control</td>\n",
       "      <td>old_page</td>\n",
       "      <td>1</td>\n",
       "      <td>US</td>\n",
       "    </tr>\n",
       "  </tbody>\n",
       "</table>\n",
       "</div>"
      ],
      "text/plain": [
       "   user_id                   timestamp      group landing_page  converted  \\\n",
       "0   851104  2017-01-21 22:11:48.556739    control     old_page          0   \n",
       "1   804228  2017-01-12 08:01:45.159739    control     old_page          0   \n",
       "2   661590  2017-01-11 16:55:06.154213  treatment     new_page          0   \n",
       "3   853541  2017-01-08 18:28:03.143765  treatment     new_page          0   \n",
       "4   864975  2017-01-21 01:52:26.210827    control     old_page          1   \n",
       "\n",
       "  country  \n",
       "0      US  \n",
       "1      US  \n",
       "2      US  \n",
       "3      US  \n",
       "4      US  "
      ]
     },
     "execution_count": 41,
     "metadata": {},
     "output_type": "execute_result"
    }
   ],
   "source": [
    "df_clean = df_clean.merge(df_country, on='user_id', how='left')\n",
    "df_clean.to_csv('../data/ab_data_clean.csv', index=False)\n",
    "df_clean.head()"
   ]
  },
  {
   "cell_type": "markdown",
   "metadata": {},
   "source": [
    "We have addressed all of the issues raised and are now ready to analyse the dataset."
   ]
  },
  {
   "cell_type": "markdown",
   "metadata": {},
   "source": [
    "## Analysis of A/B Test Results\n",
    "\n",
    "The metric we'll use to assess the performance of each page is click through rate (CTR) which describes the proportion of uses who converted. Lets construct our null and alternative hypothesese:\n",
    "\n",
    "$$H_0: p_{new} - p_{old} \\leq 0$$\n",
    "$$H_1: p_{new} - p_{old} > 0$$\n",
    "\n",
    "Given the hypotheses, we will accept a type I error tolerance of: $$\\alpha \\leq 5\\%$$\n",
    "***\n",
    "Lets separate out out treatment and control groups into two new dataframes and calculate the proportions of users converted."
   ]
  },
  {
   "cell_type": "code",
   "execution_count": 17,
   "metadata": {},
   "outputs": [],
   "source": [
    "# Construct df's for each group\n",
    "df_new = df_clean[df_clean.landing_page==\"new_page\"]\n",
    "df_old = df_clean[df_clean.landing_page==\"old_page\"]"
   ]
  },
  {
   "cell_type": "code",
   "execution_count": 18,
   "metadata": {},
   "outputs": [
    {
     "name": "stdout",
     "output_type": "stream",
     "text": [
      "p_total:  0.11959708724499628\n",
      "p_new:  0.11880806551510564\n",
      "p_old:  0.1203863045004612\n",
      "p_new - p_old:  -0.0015782389853555567\n"
     ]
    }
   ],
   "source": [
    "print(\"p_total: \", df_clean.converted.mean())\n",
    "print(\"p_new: \", df_new.converted.mean())\n",
    "print(\"p_old: \", df_old.converted.mean())\n",
    "print(\"p_new - p_old: \", df_new.converted.mean() - df_old.converted.mean())"
   ]
  },
  {
   "cell_type": "markdown",
   "metadata": {},
   "source": [
    "This initial assessment suggests that the proportion of users who converted is marginally larger (0.16%) for those exposed to the old page than the new page and therefore we cannot reject the null. \n",
    "\n",
    "To give this assessment statistical significance lets create a sample distribution for the difference in conversion rates through bootstrapping."
   ]
  },
  {
   "cell_type": "code",
   "execution_count": 19,
   "metadata": {},
   "outputs": [
    {
     "name": "stdout",
     "output_type": "stream",
     "text": [
      "0:01:23.323290\n"
     ]
    }
   ],
   "source": [
    "start = datetime.now()\n",
    "diffs=[]\n",
    "for _ in range(10000):\n",
    "    boot_new = np.random.choice(df_new.converted, df_new.shape[0], replace=True)\n",
    "    boot_old = np.random.choice(df_old.converted, df_old.shape[0], replace=True)\n",
    "    diffs.append(np.mean(boot_new)-np.mean(boot_old))\n",
    "    \n",
    "end = datetime.now()\n",
    "runtime = end - start\n",
    "print(runtime)"
   ]
  },
  {
   "cell_type": "code",
   "execution_count": 20,
   "metadata": {},
   "outputs": [
    {
     "name": "stderr",
     "output_type": "stream",
     "text": [
      "/home/ding/anaconda3/lib/python3.7/site-packages/scipy/stats/stats.py:1713: FutureWarning: Using a non-tuple sequence for multidimensional indexing is deprecated; use `arr[tuple(seq)]` instead of `arr[seq]`. In the future this will be interpreted as an array index, `arr[np.array(seq)]`, which will result either in an error or a different result.\n",
      "  return np.add.reduce(sorted[indexer] * weights, axis=axis) / sumval\n"
     ]
    },
    {
     "data": {
      "image/png": "[encoded data removed]",
      "text/plain": [
       "<Figure size 1058.4x595.44 with 1 Axes>"
      ]
     },
     "metadata": {
      "needs_background": "light"
     },
     "output_type": "display_data"
    }
   ],
   "source": [
    "vis.createPlot()\n",
    "sb.distplot(diffs);\n",
    "plt.title(\"Bootsrap sample distribution of difference in conversion rates\", fontsize=16);\n",
    "plt.xlabel(\"$\\pi_{new} - \\pi_{old}$\");"
   ]
  },
  {
   "cell_type": "markdown",
   "metadata": {},
   "source": [
    "We can simulate the sampling distributions using an alternative method which avoids the use of a computationally expensive for loop by generating binomial distrubutions using the sample means as probability of conversion."
   ]
  },
  {
   "cell_type": "code",
   "execution_count": 21,
   "metadata": {},
   "outputs": [
    {
     "data": {
      "image/png": "[encoded data removed]",
      "text/plain": [
       "<Figure size 1058.4x595.44 with 1 Axes>"
      ]
     },
     "metadata": {
      "needs_background": "light"
     },
     "output_type": "display_data"
    }
   ],
   "source": [
    "start = datetime.now()\n",
    "p_new = np.random.binomial(df_new.shape[0], df_new.converted.mean(),10000)/df_new.shape[0]\n",
    "p_old = np.random.binomial(df_old.shape[0], df_old.converted.mean(),10000)/df_old.shape[0]\n",
    "p_diffs = p_new - p_old\n",
    "\n",
    "end = datetime.now()\n",
    "\n",
    "vis.createPlot()\n",
    "sb.distplot(p_diffs);\n",
    "plt.title(\"Bootsrap sample distribution of difference in conversion rates\", fontsize=16);\n",
    "plt.xlabel(\"$\\pi_{new} - \\pi_{old}$\");\n",
    "\n",
    "runtime2 = end - start"
   ]
  },
  {
   "cell_type": "code",
   "execution_count": 22,
   "metadata": {},
   "outputs": [
    {
     "name": "stdout",
     "output_type": "stream",
     "text": [
      "Loop runtime: 0:01:23.323290\n",
      "Binomial runtime: 0:00:00.003581\n",
      "Delta: 0:01:23.319709\n"
     ]
    }
   ],
   "source": [
    "print(\"Loop runtime:\", runtime)\n",
    "print(\"Binomial runtime:\", runtime2)\n",
    "print(\"Delta:\", runtime - runtime2)"
   ]
  },
  {
   "cell_type": "markdown",
   "metadata": {},
   "source": [
    "There is a huge difference in runtime speeds between the 2 methods used. The initial mehtod which made us of a for loop computes in 1 minute 20 seconds on my computer, whilst the method which uses a normalised binomial distribution computes in 3 millseconds.\n",
    "\n",
    "We can use the standard deviation of sampling distribution `p_diffs` to generate a distribution from the null then caluclate the p-value."
   ]
  },
  {
   "cell_type": "code",
   "execution_count": 23,
   "metadata": {},
   "outputs": [
    {
     "name": "stdout",
     "output_type": "stream",
     "text": [
      "std 0.0012072359677520355\n"
     ]
    },
    {
     "data": {
      "image/png": "[encoded data removed]",
      "text/plain": [
       "<Figure size 1058.4x595.44 with 1 Axes>"
      ]
     },
     "metadata": {
      "needs_background": "light"
     },
     "output_type": "display_data"
    }
   ],
   "source": [
    "print(\"std\", np.std(p_diffs))\n",
    "nulls = np.random.normal(0, np.std(p_diffs), 10000)\n",
    "\n",
    "vis.createPlot();\n",
    "sb.distplot(nulls);\n",
    "plt.title(\"Distribution of conversion rates from the null\", fontsize=16);\n",
    "plt.xlabel(\"$\\pi_{null}$\", fontsize=14);\n",
    "plt.axvline(np.mean(p_diffs), color='r');\n",
    "plt.text(np.mean(p_diffs), 25, \"$\\pi_{new} - \\pi_{old}$\", rotation=0, fontweight='bold', fontsize=14);"
   ]
  },
  {
   "cell_type": "code",
   "execution_count": 24,
   "metadata": {},
   "outputs": [
    {
     "name": "stdout",
     "output_type": "stream",
     "text": [
      "p-value: 0.9099\n"
     ]
    }
   ],
   "source": [
    "p_val = (nulls > np.mean(p_diffs)).mean()\n",
    "print(\"p-value:\", p_val)"
   ]
  },
  {
   "cell_type": "markdown",
   "metadata": {},
   "source": [
    "## Conclusion\n",
    "The p-value of 0.9099 tells us that the probability of observing our value for $\\pi_{new}-\\pi_{old}$ or one that favours the alternative more strongly is 91%, given that the null is true. Specifically: $$ P(\\pi_{diff}\\geq-0.15|H_0=True) = 0.91$$\n",
    "\n",
    "Given a target tolerance for type I error rate of: $\\alpha \\leq 5\\%$, we fail to reject the null hypothesis. Therefore, my recommendation is that the e-commerce site should **not** roll out their new web-page.\n",
    "***\n",
    "## Regression Analysis\n",
    "Given that user conversion is binary, another method we can use to investigate the probability of conversion is logistic regression."
   ]
  },
  {
   "cell_type": "code",
   "execution_count": null,
   "metadata": {},
   "outputs": [],
   "source": []
  }
 ],
 "metadata": {
  "kernelspec": {
   "display_name": "Python 3",
   "language": "python",
   "name": "python3"
  },
  "language_info": {
   "codemirror_mode": {
    "name": "ipython",
    "version": 3
   },
   "file_extension": ".py",
   "mimetype": "text/x-python",
   "name": "python",
   "nbconvert_exporter": "python",
   "pygments_lexer": "ipython3",
   "version": "3.7.3"
  }
 },
 "nbformat": 4,
 "nbformat_minor": 2
}
